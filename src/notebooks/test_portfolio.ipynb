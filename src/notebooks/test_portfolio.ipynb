{
 "cells": [
  {
   "cell_type": "code",
   "execution_count": 2,
   "id": "initial_id",
   "metadata": {
    "ExecuteTime": {
     "end_time": "2025-03-01T08:23:26.639004Z",
     "start_time": "2025-03-01T08:23:26.618604Z"
    }
   },
   "outputs": [
    {
     "ename": "ModuleNotFoundError",
     "evalue": "No module named 'analysis'",
     "output_type": "error",
     "traceback": [
      "\u001b[1;31m---------------------------------------------------------------------------\u001b[0m",
      "\u001b[1;31mModuleNotFoundError\u001b[0m                       Traceback (most recent call last)",
      "Cell \u001b[1;32mIn[2], line 2\u001b[0m\n\u001b[0;32m      1\u001b[0m \u001b[38;5;28;01mfrom\u001b[39;00m \u001b[38;5;21;01mtyping\u001b[39;00m \u001b[38;5;28;01mimport\u001b[39;00m \u001b[38;5;241m*\u001b[39m\n\u001b[1;32m----> 2\u001b[0m \u001b[38;5;28;01mfrom\u001b[39;00m \u001b[38;5;21;01manalysis\u001b[39;00m\u001b[38;5;21;01m.\u001b[39;00m\u001b[38;5;21;01mcore\u001b[39;00m\u001b[38;5;21;01m.\u001b[39;00m\u001b[38;5;21;01mcurrency\u001b[39;00m \u001b[38;5;28;01mimport\u001b[39;00m Currency\n\u001b[0;32m      3\u001b[0m \u001b[38;5;28;01mfrom\u001b[39;00m \u001b[38;5;21;01manalysis\u001b[39;00m\u001b[38;5;21;01m.\u001b[39;00m\u001b[38;5;21;01mcore\u001b[39;00m\u001b[38;5;21;01m.\u001b[39;00m\u001b[38;5;21;01mutils\u001b[39;00m \u001b[38;5;28;01mimport\u001b[39;00m load_data_from_currencies, compute_log_returns\n\u001b[0;32m      4\u001b[0m \u001b[38;5;28;01mfrom\u001b[39;00m \u001b[38;5;21;01manalysis\u001b[39;00m\u001b[38;5;21;01m.\u001b[39;00m\u001b[38;5;21;01mcore\u001b[39;00m\u001b[38;5;21;01m.\u001b[39;00m\u001b[38;5;21;01mtime_utils\u001b[39;00m \u001b[38;5;28;01mimport\u001b[39;00m Bounds\n",
      "\u001b[1;31mModuleNotFoundError\u001b[0m: No module named 'analysis'"
     ]
    }
   ],
   "source": [
    "from typing import *\n",
    "from analysis.core.currency import Currency\n",
    "from analysis.core.utils import load_data_from_currencies, compute_log_returns\n",
    "from analysis.core.time_utils import Bounds\n",
    "from datetime import date, timedelta\n",
    "\n",
    "\n",
    "import pandas as pd\n",
    "import seaborn as sns\n",
    "import matplotlib.pyplot as plt\n",
    "import numpy as np\n",
    "\n",
    "\n",
    "# Current portfolio that we have\n",
    "existing_portfolio: Dict[Currency, float] = {\n",
    "    Currency.BTC: 0.6086,\n",
    "    Currency.ETH: 0.105,\n",
    "    Currency.XRP: 0.049,\n",
    "    Currency.SOL: 0.0278,\n",
    "    Currency.TRX: 0.0066,\n",
    "    Currency.TON: 0.003,\n",
    "    Currency.LINK: 0.0535,\n",
    "    Currency.AAVE: 0.0175,\n",
    "    Currency.ONDO: 0.0171,\n",
    "    Currency.ENA: 0.0061,\n",
    "    Currency.MOVE: 0.0057,\n",
    "    Currency.HYPE: 0.0232,\n",
    "    Currency.UNI: 0.0162,\n",
    "    Currency.TAO: 0.0082,\n",
    "    Currency.MKR: 0.0024,\n",
    "    Currency.USDT: 0.0167 * 3\n",
    "}"
   ]
  },
  {
   "cell_type": "markdown",
   "id": "4eadaf54-1712-4ef2-9797-f156078eb340",
   "metadata": {},
   "source": [
    "<h4>Check portfolios of different BTC/ETH combinations similar to VanEck report</h4>"
   ]
  },
  {
   "cell_type": "code",
   "execution_count": null,
   "id": "1a502f82-c500-4b54-bba1-0e3c88848821",
   "metadata": {},
   "outputs": [],
   "source": [
    "start_date: date = date(2013, 1, 1)\n",
    "end_date: date = date(2025, 2, 28)\n",
    "bounds: Bounds = Bounds.for_days(start_date, end_date)\n",
    "selected_currencies: List[Currency] = [Currency.BTC, Currency.ETH]\n",
    "\n",
    "df_prices: pd.DataFrame = load_data_from_currencies(bounds=bounds, currencies=selected_currencies)\n",
    "df_returns: pd.DataFrame = compute_log_returns(df_prices=df_prices)\n",
    "\n",
    "plt.title(\"Daily Returns BTC vs ETH\")\n",
    "sns.histplot(df_returns[\"BTC\"], label=\"BTC\", stat=\"probability\")\n",
    "sns.histplot(df_returns[\"ETH\"], label=\"ETH\", stat=\"probability\")\n",
    "\n",
    "plt.legend()\n",
    "plt.show()"
   ]
  },
  {
   "cell_type": "markdown",
   "id": "5a8ee664-7963-494a-9a2c-fb32cfe789f1",
   "metadata": {},
   "source": [
    "<h4>BTC and ETH 60%, 40% allocations</h4>"
   ]
  },
  {
   "cell_type": "code",
   "execution_count": null,
   "id": "bb634400-ff0e-4621-9127-93a4dd05dd3f",
   "metadata": {},
   "outputs": [],
   "source": [
    "def compute_return_series_for_portfolio(df_returns: pd.DataFrame, portfolio: Dict[Currency, float]) -> pd.Series:\n",
    "    currencies: List[str] = [currency.name for currency in portfolio]\n",
    "    weights: np.ndarray = np.array(portfolio.values())\n",
    "\n",
    "    return (df_returns[currencies] * weights).sum(axis=1)\n",
    "\n",
    "\n",
    "portfolio_6040: Dict[Currency, float] = {\n",
    "    Currency.BTC: 0.6, Currency.ETH: 0.4\n",
    "}\n",
    "\n",
    "returns: pd.Series = compute_return_series_for_portfolio(df_returns=df_returns, portfolio=portfolio_6040)\n",
    "\n",
    "plt.plot((1 + returns).cumprod())\n",
    "plt.show()"
   ]
  },
  {
   "cell_type": "markdown",
   "id": "57e4e5ac-af08-4ce2-9687-e9361bc61076",
   "metadata": {},
   "source": [
    "<h4>Other allocations of BTC/ETH</h4>"
   ]
  },
  {
   "cell_type": "code",
   "execution_count": null,
   "id": "31ba453b-cafc-4808-aecc-f8cecbc4dceb",
   "metadata": {},
   "outputs": [],
   "source": [
    "shares: np.ndarray = np.arange(0, 1.01, 0.01)\n",
    "final_pnl: List[float] = []\n",
    "\n",
    "for btc_share in np.arange(0, 1.01, 0.01):\n",
    "    returns: pd.Series = compute_return_series_for_portfolio(\n",
    "        df_returns=df_returns, \n",
    "        portfolio={Currency.BTC: btc_share, Currency.ETH: 1-btc_share}\n",
    "    )\n",
    "    final_pnl.append((1 + returns).prod())\n",
    "    \n",
    "    plt.plot((1 + returns).cumprod(), color=\"red\", alpha=.1)\n",
    "\n",
    "plt.title(\"How BTC/ETH share affects portfolio returns\")\n",
    "plt.show()"
   ]
  },
  {
   "cell_type": "code",
   "execution_count": null,
   "id": "f7b5f2be-c79c-4a74-87c7-4fbf2940f772",
   "metadata": {},
   "outputs": [],
   "source": [
    "final_pnl = np.array(final_pnl)\n",
    "optimal_btc_share: float = shares[final_pnl.argmax()]\n",
    "\n",
    "plt.title(\"Optimal BTC allocation against ETH\")\n",
    "plt.plot(shares, final_pnl)\n",
    "plt.axvline(optimal_btc_share, color=\"red\", linestyle=\"--\", label=f\"Optimal BTC allocation: {optimal_btc_share}\")\n",
    "plt.legend()\n",
    "plt.show()"
   ]
  },
  {
   "cell_type": "markdown",
   "id": "44bbca09-47b3-46e7-9512-a470d0fd47c6",
   "metadata": {},
   "source": [
    "<h4>If we take volatility of returns into account. Max Sharpe portfolio from BTC & ETH</h4>"
   ]
  },
  {
   "cell_type": "code",
   "execution_count": null,
   "id": "9d5d005c-9e54-494a-a5a7-86b255520ed9",
   "metadata": {},
   "outputs": [],
   "source": [
    "# compute max sharpe portfolio\n",
    "from analysis.portfolio_makers.max_sharpe import MaxSharpePortfolio\n",
    "\n",
    "\n",
    "optimizer: MaxSharpePortfolio = MaxSharpePortfolio()\n",
    "optimal_btc_eth_portfolio: Dict[Currency, float] = optimizer.find_portfolio(\n",
    "    df_returns=df_returns, selected_currencies=[Currency.BTC, Currency.ETH]\n",
    ")\n",
    "\n",
    "optimal_btc_eth_portfolio"
   ]
  },
  {
   "cell_type": "markdown",
   "id": "6737c386-b5ff-46d2-ad06-fa5c39b2d363",
   "metadata": {},
   "source": [
    "Получаем похожую картинку, что кстати совпадает с нашим существующим портфелем"
   ]
  },
  {
   "cell_type": "markdown",
   "id": "417309ba-e5f3-4eab-9768-da14737180bd",
   "metadata": {},
   "source": [
    "<h4>Compute historical stats of existing portfolio</h4>\n",
    "\n",
    "Так как данных нет для всех активов, мы будем держать кэш до момента, когда появятся торги актива"
   ]
  },
  {
   "cell_type": "code",
   "execution_count": null,
   "id": "eb8fc34c-f96e-408f-b442-0917321560f5",
   "metadata": {},
   "outputs": [],
   "source": [
    "today: date = date.today()\n",
    "start_date: date = today - timedelta(days=180)\n",
    "\n",
    "bounds: Bounds = Bounds.for_days(start_date, today)\n",
    "df_prices: pd.DataFrame = load_data_from_currencies(bounds=bounds, currencies=list(existing_portfolio.keys()))\n",
    "df_returns: pd.DataFrame = compute_log_returns(df_prices=df_prices)\n",
    "df_returns[Currency.USDT.name] = 0\n",
    "\n",
    "# fill missing returns with zeroes\n",
    "df_returns = df_returns.fillna(0)"
   ]
  },
  {
   "cell_type": "code",
   "execution_count": null,
   "id": "7a50c7e5-3054-46a0-9317-1b355654e890",
   "metadata": {},
   "outputs": [],
   "source": [
    "portfolio_returns: pd.Series = compute_return_series_for_portfolio(\n",
    "    df_returns=df_returns, portfolio=existing_portfolio\n",
    ")\n",
    "optimal_btceth_returns: pd.Series = compute_return_series_for_portfolio(\n",
    "    df_returns=df_returns, portfolio=optimal_btc_eth_portfolio\n",
    ")\n",
    "\n",
    "plt.title(\"Существующий портфель против \\n оптимального BTC&ETH портфеля\")\n",
    "plt.plot((portfolio_returns + 1).cumprod(), label=\"Our portfolio\")\n",
    "plt.plot((optimal_btceth_returns + 1).cumprod(), label=\"Optimal BTC/ETH portfolio\")\n",
    "plt.legend()\n",
    "plt.xticks(rotation=70)\n",
    "plt.show()"
   ]
  },
  {
   "cell_type": "code",
   "execution_count": null,
   "id": "7988a012-77c5-4980-a08f-1a28e7a131d1",
   "metadata": {},
   "outputs": [],
   "source": [
    "from tqdm import tqdm\n",
    "\n",
    "\n",
    "def compute_multiple_returns(offsets: List[timedelta]) -> pd.DataFrame:\n",
    "    today: date = date.today()\n",
    "\n",
    "    returns: List[Dict[str, float]] = []\n",
    "\n",
    "    for offset in tqdm(offsets):\n",
    "        bounds: Bounds = Bounds.for_days(today - offset, today)\n",
    "        df_prices: pd.DataFrame = load_data_from_currencies(bounds=bounds, currencies=list(existing_portfolio.keys()))\n",
    "        df_returns: pd.DataFrame = compute_log_returns(df_prices=df_prices)\n",
    "        df_returns[Currency.USDT.name] = 0\n",
    "        # fill missing returns with zeroes\n",
    "        df_returns = df_returns.fillna(0)\n",
    "\n",
    "        # Compute returns of BTC/ETH portfolio and existing portfolio\n",
    "        existing_portfolio_returns: pd.Series = compute_return_series_for_portfolio(df_returns=df_returns, portfolio=existing_portfolio)\n",
    "        optimal_btceth_returns: pd.Series = compute_return_series_for_portfolio(df_returns=df_returns, portfolio=optimal_btc_eth_portfolio)\n",
    "\n",
    "        optimal_btceth_return: float = (optimal_btceth_returns + 1).prod()\n",
    "        existing_portfolio_return: float = (existing_portfolio_returns + 1).prod()\n",
    "\n",
    "        returns.append({\n",
    "            \"past\": offset.days,\n",
    "            \"btceth_portfolio\": optimal_btceth_return,\n",
    "            \"btceth_portfolio_annualized_return\": (1 + optimal_btceth_returns.mean()) ** 365 - 1,\n",
    "            \"btceth_portfolio_annualized_vol\": optimal_btceth_returns.std() * np.sqrt(365),\n",
    "            \"existing_portfolio\": existing_portfolio_return,\n",
    "            \"existing_portfolio_annualized_return\": (1 + existing_portfolio_returns.mean())**365 - 1,\n",
    "            \"existing_portfolio_annualized_vol\": existing_portfolio_returns.std() * np.sqrt(365),\n",
    "        })\n",
    "\n",
    "    return pd.DataFrame(returns)"
   ]
  },
  {
   "cell_type": "code",
   "execution_count": null,
   "id": "a6fa6f89-c082-4fb7-bb96-af0974b1c8d9",
   "metadata": {},
   "outputs": [],
   "source": [
    "offsets: List[timedelta] = [\n",
    "    timedelta(days=30),\n",
    "    timedelta(days=90),\n",
    "    timedelta(days=180),\n",
    "    timedelta(days=365),\n",
    "    timedelta(days=365*3),\n",
    "    timedelta(days=365*5)\n",
    "]\n",
    "\n",
    "df_stats = compute_multiple_returns(offsets=offsets)"
   ]
  },
  {
   "cell_type": "code",
   "execution_count": null,
   "id": "e761b342-7440-409e-a322-7e3dd8782781",
   "metadata": {},
   "outputs": [],
   "source": [
    "df_stats[\"btceth_sharpe_ratio\"] = df_stats[\"btceth_portfolio_annualized_return\"] / df_stats[\"btceth_portfolio_annualized_vol\"]\n",
    "df_stats[\"existing_portfolio_sharpe_ratio\"] = df_stats[\"existing_portfolio_annualized_return\"] / df_stats[\"existing_portfolio_annualized_vol\"]"
   ]
  },
  {
   "cell_type": "markdown",
   "id": "dc3bf0ee-9d58-44ed-8688-a232aeb85019",
   "metadata": {},
   "source": [
    "<h4>Overall return</h4>"
   ]
  },
  {
   "cell_type": "code",
   "execution_count": null,
   "id": "a4ab0771-6e8c-48af-8305-215fed3b45f2",
   "metadata": {},
   "outputs": [],
   "source": [
    "df_stats[[\"past\", \"btceth_portfolio\", \"existing_portfolio\"]]"
   ]
  },
  {
   "cell_type": "markdown",
   "id": "7a7ad1cc-4ac6-4230-95b3-eb6c85dc64b0",
   "metadata": {},
   "source": [
    "<h4>Annualized Sharpe ratios</h4>"
   ]
  },
  {
   "cell_type": "code",
   "execution_count": null,
   "id": "a7d872b4-9a64-4c3f-80e1-4ca500579e80",
   "metadata": {},
   "outputs": [],
   "source": [
    "df_stats[[\"past\", \"btceth_sharpe_ratio\", \"existing_portfolio_sharpe_ratio\"]]"
   ]
  },
  {
   "cell_type": "markdown",
   "id": "fc0f3e78-4290-48bb-9a6c-637acbe5cbba",
   "metadata": {},
   "source": [
    "<h4>Annualized returns</h4>"
   ]
  },
  {
   "cell_type": "code",
   "execution_count": null,
   "id": "18e7324f-a942-4f1b-bd54-a454e05eb010",
   "metadata": {},
   "outputs": [],
   "source": [
    "df_stats[[\"past\", \"btceth_portfolio_annualized_return\", \"existing_portfolio_annualized_return\"]]"
   ]
  },
  {
   "cell_type": "markdown",
   "id": "ae4b86a9-4bfb-4d06-bbe7-e34f69adf809",
   "metadata": {},
   "source": [
    "<h4>Annualized volatility</h4>"
   ]
  },
  {
   "cell_type": "code",
   "execution_count": null,
   "id": "2e0e8f3d-89af-4155-a73f-dc01083d90bb",
   "metadata": {},
   "outputs": [],
   "source": [
    "df_stats[[\"past\", \"btceth_portfolio_annualized_vol\", \"existing_portfolio_annualized_vol\"]]"
   ]
  },
  {
   "cell_type": "markdown",
   "id": "562b9ca5-7c69-4e78-9bd5-62c2ced40ed5",
   "metadata": {},
   "source": [
    "<h4>Если мы делаем ребаланс, то есть строим совершенно новые портфели каждый месяц, используя данные за последние 3 месяца</h4>"
   ]
  },
  {
   "cell_type": "code",
   "execution_count": null,
   "id": "face8276-62ee-4b67-8278-4c74edf6d74c",
   "metadata": {},
   "outputs": [],
   "source": [
    "def compute_return_series_of_actively_rebalanced_portfolio(\n",
    "    bounds: Bounds, interval: timedelta, step: timedelta, use_currencies: List[Currency]\n",
    ") -> pd.Series:\n",
    "    df_prices: pd.DataFrame = load_data_from_currencies(bounds=bounds, currencies=use_currencies)\n",
    "    df_returns: pd.DataFrame = compute_log_returns(df_prices=df_prices)\n",
    "    \n",
    "    df_returns[Currency.USDT.name] = 0\n",
    "    # fill missing returns with zeroes\n",
    "    df_returns = df_returns.fillna(0)\n",
    "    \n",
    "    overlapping_bounds: List[Bounds] = bounds.generate_overlapping_bounds(step=step, interval=interval)\n",
    "    \n",
    "    returns_tss: List[pd.Series] = []\n",
    "    \n",
    "    for sub_bounds in tqdm(overlapping_bounds):\n",
    "        portfolio: Dict[Currency, float] = optimizer.find_portfolio(\n",
    "            df_returns=df_returns.loc[sub_bounds.day0: sub_bounds.day1], selected_currencies=list(Currency)\n",
    "        )\n",
    "        returns = compute_return_series_for_portfolio(\n",
    "            df_returns=df_returns.loc[sub_bounds.day1: sub_bounds.day1 + timedelta(days=30)],\n",
    "            portfolio=portfolio\n",
    "        )\n",
    "        returns_tss.append(returns)\n",
    "\n",
    "    return pd.concat(returns_tss)"
   ]
  },
  {
   "cell_type": "code",
   "execution_count": null,
   "id": "cafea308-45e0-406c-8144-5553770b21eb",
   "metadata": {},
   "outputs": [],
   "source": [
    "bounds: Bounds = Bounds.for_days(\n",
    "    start_date=date.today() - timedelta(days=270), end_date=date.today()\n",
    ")\n",
    "\n",
    "actively_rebalanced_portfolio_returns: pd.Series = compute_return_series_of_actively_rebalanced_portfolio(\n",
    "    bounds=bounds, interval=timedelta(days=90), step=timedelta(days=30), use_currencies=list(Currency)\n",
    ")"
   ]
  },
  {
   "cell_type": "code",
   "execution_count": null,
   "id": "cb1de816-00cc-4408-acf8-748d5eea13e7",
   "metadata": {},
   "outputs": [],
   "source": [
    "plt.figure(figsize=(16, 10))\n",
    "\n",
    "plt.title(\"Сравнение разных портфелей за последний год по доходности\")\n",
    "plt.plot((1 + actively_rebalanced_portfolio_returns).cumprod(), label=\"Портфель с ежемесячной ребалансировкой\")\n",
    "plt.plot((portfolio_returns + 1).cumprod(), label=\"Наш нынешний портфель\")\n",
    "plt.plot((optimal_btceth_returns + 1).cumprod(), label=\"Оптимальный портфель из BTC и ETH\")\n",
    "\n",
    "plt.legend()\n",
    "plt.xticks(rotation=70)\n",
    "plt.savefig(\"three_strategies_compared.png\")\n",
    "plt.show()"
   ]
  },
  {
   "cell_type": "code",
   "execution_count": null,
   "id": "2d503a34-22b9-4431-b240-bdf6caf4d096",
   "metadata": {},
   "outputs": [],
   "source": [
    "stats: List[Dict[str, Any]] = []\n",
    "\n",
    "for offset in offsets:\n",
    "    bounds: Bounds = Bounds.for_days(\n",
    "        start_date=date.today() - offset, end_date=date.today()\n",
    "    )\n",
    "    actively_rebalanced_portfolio_returns: pd.Series = compute_return_series_of_actively_rebalanced_portfolio(\n",
    "        bounds=bounds, interval=timedelta(days=90), step=timedelta(days=30), use_currencies=list(Currency)\n",
    "    )\n",
    "    stats.append({\n",
    "        \"past\": offset.days,\n",
    "        \"portfolio_rebalanced_90/30\": (actively_rebalanced_portfolio_returns + 1).prod(),\n",
    "        \"portfolio_rebalanced_90/30_annualized_return\": (1 + actively_rebalanced_portfolio_returns.mean()) ** 252 - 1,\n",
    "        \"portfolio_rebalanced_90/30_annualized_std\": actively_rebalanced_portfolio_returns.std() * np.sqrt(252)\n",
    "    })"
   ]
  },
  {
   "cell_type": "code",
   "execution_count": null,
   "id": "31e8cd34-f830-4a79-a869-416f61d7ac18",
   "metadata": {},
   "outputs": [],
   "source": [
    "df_rebalanced = pd.DataFrame(stats)\n",
    "df_rebalanced[\"sharpe_ratio\"] = (\n",
    "    df_rebalanced[\"portfolio_rebalanced_90/30_annualized_return\"] / df_rebalanced[\"portfolio_rebalanced_90/30_annualized_std\"]\n",
    ")\n",
    "\n",
    "df_rebalanced"
   ]
  },
  {
   "cell_type": "markdown",
   "id": "1964f874-e46f-4775-8bcc-df6b03c773b4",
   "metadata": {},
   "source": [
    "<h4>All Sharpe ratios</h4>"
   ]
  },
  {
   "cell_type": "code",
   "execution_count": null,
   "id": "988a677c-1802-4cac-8bdd-13a34f7cda25",
   "metadata": {},
   "outputs": [],
   "source": [
    "df_all = pd.concat([df_stats, df_rebalanced], axis=1)\n",
    "df_all[[\"past\", \"btceth_sharpe_ratio\", \"existing_portfolio_sharpe_ratio\", \"sharpe_ratio\"]].iloc[:, 1:]"
   ]
  },
  {
   "cell_type": "markdown",
   "id": "256eae33-880b-4074-ab02-0fb4356e0996",
   "metadata": {},
   "source": [
    "<h4>All Annualized returns</h4>"
   ]
  },
  {
   "cell_type": "code",
   "execution_count": null,
   "id": "57de0538-3c86-4dcc-9e0d-a24301a2b0e6",
   "metadata": {},
   "outputs": [],
   "source": [
    "df_all[\n",
    "    [\"past\", \"btceth_portfolio_annualized_return\", \"existing_portfolio_annualized_return\", \"portfolio_rebalanced_90/30_annualized_return\"]\n",
    "].iloc[:, 1:]"
   ]
  },
  {
   "cell_type": "markdown",
   "id": "bb1e9fe7-bf65-41dc-8914-f3d1d29e83e4",
   "metadata": {},
   "source": [
    "<h4>All total returns</h4>"
   ]
  },
  {
   "cell_type": "code",
   "execution_count": null,
   "id": "d88727ab-8630-4b73-b10a-cf8762ac923f",
   "metadata": {},
   "outputs": [],
   "source": [
    "df_all[\n",
    "    [\"past\", \"btceth_portfolio\", \"existing_portfolio\", \"portfolio_rebalanced_90/30\"]\n",
    "].iloc[:, 1:]"
   ]
  },
  {
   "cell_type": "markdown",
   "id": "c4e22b29-080d-42f2-9a33-08f182d8e4c2",
   "metadata": {},
   "source": [
    "<h4>Get crypto market cap</h4>"
   ]
  },
  {
   "cell_type": "code",
   "execution_count": null,
   "id": "1407692e-d48a-41b7-be37-e381a95e2e80",
   "metadata": {},
   "outputs": [],
   "source": [
    "import requests\n",
    "\n",
    "\n",
    "resp = requests.get(\n",
    "    \"https://api.coinmarketcap.com/data-api/v4/global-metrics/quotes/historical?range=ALL&convertId=2781&module=marketcap\"\n",
    ")"
   ]
  },
  {
   "cell_type": "code",
   "execution_count": null,
   "id": "107819a2-a42f-406a-8d7d-65b37a39083c",
   "metadata": {},
   "outputs": [],
   "source": [
    "df_mcap: pd.DataFrame = pd.DataFrame(resp.json()[\"data\"][\"points\"])\n",
    "df_mcap[\"timestamp\"] = pd.to_datetime(df_mcap[\"timestamp\"], unit=\"s\")\n",
    "df_mcap.plot(x=\"timestamp\", y=\"marketCap\")\n",
    "\n",
    "plt.xticks(rotation=70)\n",
    "plt.show()"
   ]
  },
  {
   "cell_type": "code",
   "execution_count": null,
   "id": "dc023858-a6b7-48cc-bd48-7c284f0adae9",
   "metadata": {},
   "outputs": [],
   "source": [
    "df_mcap[\"market_return\"] = (df_mcap[\"marketCap\"].shift(-1) - df_mcap[\"marketCap\"]) / df_mcap[\"marketCap\"]\n",
    "\n",
    "sns.histplot(\n",
    "    df_mcap[\"market_return\"], stat=\"probability\"\n",
    ")"
   ]
  },
  {
   "cell_type": "code",
   "execution_count": null,
   "id": "fb55aa87-2c17-49e9-a2cd-0bc60903f076",
   "metadata": {},
   "outputs": [],
   "source": [
    "beta_values: List[Dict[str, float]] = []\n",
    "\n",
    "for offset in tqdm(offsets):\n",
    "    bounds: Bounds = Bounds.for_days(start_date=date.today() - offset, end_date=date.today())\n",
    "    \n",
    "    df_prices: pd.DataFrame = load_data_from_currencies(bounds=bounds, currencies=list(existing_portfolio.keys()))\n",
    "    df_returns: pd.DataFrame = compute_log_returns(df_prices=df_prices)\n",
    "    df_returns[Currency.USDT.name] = 0\n",
    "    # fill missing returns with zeroes\n",
    "    df_returns = df_returns.fillna(0)\n",
    "\n",
    "    # Compute returns of BTC/ETH portfolio and existing portfolio\n",
    "    existing_portfolio_returns: pd.Series = compute_return_series_for_portfolio(df_returns=df_returns, portfolio=existing_portfolio)\n",
    "    existing_portfolio_returns = existing_portfolio_returns.resample(\"1W\").apply(lambda x: (1 + x).prod() - 1)\n",
    "    \n",
    "    optimal_btceth_returns: pd.Series = compute_return_series_for_portfolio(df_returns=df_returns, portfolio=optimal_btc_eth_portfolio)\n",
    "    optimal_btceth_returns = optimal_btceth_returns.resample(\"1W\").apply(lambda x: (1 + x).prod() - 1)\n",
    "\n",
    "    df_mcap_sub = df_mcap[df_mcap[\"timestamp\"].dt.date.between(bounds.day0, bounds.day1)].copy()\n",
    "    df_mcap_sub = df_mcap_sub.dropna().reset_index(drop=True)\n",
    "\n",
    "    min_size: int = min(df_mcap_sub.shape[0], len(optimal_btceth_returns))\n",
    "\n",
    "    cov_btceth: float = np.cov(\n",
    "        df_mcap_sub[\"market_return\"].iloc[:min_size], optimal_btceth_returns.iloc[:min_size]\n",
    "    )[0, 1]\n",
    "    cov_existing_portfolio: float = np.cov(\n",
    "        df_mcap_sub[\"market_return\"].iloc[:min_size], existing_portfolio_returns.iloc[:min_size]\n",
    "    )[0, 1]\n",
    "    \n",
    "    var_market: float = df_mcap_sub[\"market_return\"].std()**2\n",
    "    \n",
    "    beta_values.append({\n",
    "        \"days\": offset.days,\n",
    "        \"beta_btceth_portfolio\": cov_btceth / var_market,\n",
    "        \"beta_existing_portfolio\": cov_existing_portfolio / var_market\n",
    "    })"
   ]
  },
  {
   "cell_type": "code",
   "execution_count": null,
   "id": "83946a32-8b68-4046-8eac-feeb5b6640de",
   "metadata": {},
   "outputs": [],
   "source": [
    "pd.DataFrame(beta_values)"
   ]
  },
  {
   "cell_type": "code",
   "execution_count": null,
   "id": "3824f7f7-2176-4c20-9ee0-62e6a2b6f36d",
   "metadata": {},
   "outputs": [],
   "source": [
    "beta_values: List[Dict[str, float]] = []\n",
    "\n",
    "for offset in tqdm(offsets):\n",
    "    bounds: Bounds = Bounds.for_days(start_date=date.today() - offset, end_date=date.today())\n",
    "    \n",
    "    df_prices: pd.DataFrame = load_data_from_currencies(bounds=bounds, currencies=list(existing_portfolio.keys()))\n",
    "    df_returns: pd.DataFrame = compute_log_returns(df_prices=df_prices)\n",
    "    df_returns[Currency.USDT.name] = 0\n",
    "    # fill missing returns with zeroes\n",
    "    df_returns = df_returns.fillna(0)\n",
    "\n",
    "    # Compute returns of BTC/ETH portfolio and existing portfolio\n",
    "    existing_portfolio_returns: pd.Series = compute_return_series_for_portfolio(df_returns=df_returns, portfolio=existing_portfolio)\n",
    "    optimal_btceth_returns: pd.Series = compute_return_series_for_portfolio(df_returns=df_returns, portfolio=optimal_btc_eth_portfolio)\n",
    "\n",
    "    cov_btceth: float = np.cov(optimal_btceth_returns, df_returns[\"BTC\"])[0, 1]\n",
    "    cov_existing_portfolio: float = np.cov(existing_portfolio_returns, df_returns[\"BTC\"])[0, 1]\n",
    "    \n",
    "    var_btc: float = df_returns[\"BTC\"].std()**2\n",
    "    \n",
    "    beta_values.append({\n",
    "        \"days\": offset.days,\n",
    "        \"beta_btceth_portfolio\": cov_btceth / var_btc,\n",
    "        \"beta_existing_portfolio\": cov_existing_portfolio / var_btc\n",
    "    })"
   ]
  },
  {
   "cell_type": "markdown",
   "id": "bcbf35db-c117-4cef-9cf1-2ef81a7a08ce",
   "metadata": {},
   "source": [
    "<h4>Simulate paths of prices taking into account that they are correlated</h4>"
   ]
  },
  {
   "cell_type": "code",
   "execution_count": null,
   "id": "cac85dab-3665-4286-93c5-fe5451025736",
   "metadata": {},
   "outputs": [],
   "source": [
    "bounds: Bounds = Bounds.for_days(\n",
    "    start_date=date.today() - timedelta(days=180), end_date=date.today()\n",
    ")\n",
    "\n",
    "df_prices: pd.DataFrame = load_data_from_currencies(bounds=bounds, currencies=list(Currency))\n",
    "\n",
    "df_returns: pd.DataFrame = compute_log_returns(df_prices=df_prices)\n",
    "df_returns[Currency.USDT.name] = 0"
   ]
  },
  {
   "cell_type": "code",
   "execution_count": null,
   "id": "ce7af643-2fcb-48dd-ab60-26d5ede55e3a",
   "metadata": {},
   "outputs": [],
   "source": [
    "mus = df_returns.mean().values\n",
    "cov = df_returns.cov().values\n",
    "stddevs = df_returns.std().values"
   ]
  },
  {
   "cell_type": "markdown",
   "id": "66536ecf-f739-4a42-862a-6f7576cdf846",
   "metadata": {},
   "source": [
    "<h4>Simulated return paths for the current portfolio</h4>"
   ]
  },
  {
   "cell_type": "code",
   "execution_count": null,
   "id": "3ea22398-a75b-4e40-8ce2-fee81aa153fa",
   "metadata": {},
   "outputs": [],
   "source": [
    "from analysis.backtest.monte_carlo import generate_correlated_gbm, get_portfolio_returns_paths\n",
    "\n",
    "corr_matrix: np.ndarray = df_returns.corr().values # we need correlation matrix\n",
    "S0: np.ndarray = np.array(df_prices.iloc[-1, :].tolist() + [1])\n",
    "\n",
    "St: np.ndarray = generate_correlated_gbm(\n",
    "    S0=S0, \n",
    "    currencies=list(existing_portfolio.keys()), \n",
    "    num_steps=365, \n",
    "    corr_matrix=corr_matrix,\n",
    "    stddevs=df_returns.std().values\n",
    ")"
   ]
  },
  {
   "cell_type": "code",
   "execution_count": null,
   "id": "c8b7eadd-9150-4dbe-b4a1-8f01d44e755b",
   "metadata": {},
   "outputs": [],
   "source": [
    "sim_current_portfolio: np.ndarray = get_portfolio_returns_paths(\n",
    "    St=St, weights=np.array(list(existing_portfolio.values()))\n",
    ")\n",
    "\n",
    "plt.plot(sim_current_portfolio, color=\"red\", alpha=.1)\n",
    "plt.show()"
   ]
  },
  {
   "cell_type": "markdown",
   "id": "51a32bf3-84b0-461c-80fc-41b0064e9b91",
   "metadata": {},
   "source": [
    "<h4>Simulated return paths for BTC/ETH portfolio</h4>"
   ]
  },
  {
   "cell_type": "code",
   "execution_count": null,
   "id": "431124bd-f99d-4783-b9fb-0d8b6ed10a1f",
   "metadata": {},
   "outputs": [],
   "source": [
    "selected_currencies: List[Currency] = [Currency.BTC, Currency.ETH]\n",
    "cols = [currency.name for currency in selected_currencies]\n",
    "\n",
    "corr_matrix: np.ndarray = df_returns[cols].corr().values # we need correlation matrix\n",
    "S0 = df_prices[cols].iloc[-1].values\n",
    "\n",
    "St: np.ndarray = generate_correlated_gbm(\n",
    "    S0=S0, \n",
    "    currencies=selected_currencies, \n",
    "    num_steps=365, \n",
    "    corr_matrix=corr_matrix,\n",
    "    stddevs=df_returns[cols].std().values\n",
    ")"
   ]
  },
  {
   "cell_type": "code",
   "execution_count": null,
   "id": "ea5d4734-4adf-4787-b064-3de63da43095",
   "metadata": {},
   "outputs": [],
   "source": [
    "sim_btc_eth_portfolio: np.ndarray = get_portfolio_returns_paths(\n",
    "    St=St, weights=[0.61, 0.39]\n",
    ")\n",
    "\n",
    "plt.plot(sim_btc_eth_portfolio, color=\"yellow\", alpha=.1)\n",
    "plt.show()"
   ]
  },
  {
   "cell_type": "code",
   "execution_count": null,
   "id": "6d6218bc-3e88-4a8e-88dc-3123d50d3721",
   "metadata": {},
   "outputs": [],
   "source": [
    "import matplotlib.patches as mpatches\n",
    "\n",
    "plt.figure(figsize=(16, 10))\n",
    "plt.plot(sim_current_portfolio, color=\"red\", alpha=.2)\n",
    "plt.plot(sim_btc_eth_portfolio, color=\"blue\", alpha=.2)\n",
    "\n",
    "legend_patches = [\n",
    "    mpatches.Patch(color='red', label=\"Currently suggested portfolio\"),\n",
    "    mpatches.Patch(color='blue', label=\"BTC/ETH portfolio\"),\n",
    "]\n",
    "\n",
    "plt.plot(sim_current_portfolio.mean(axis=1), label=\"Currently suggested portfolio: Mean return path\", color=\"red\", linewidth=2)\n",
    "plt.plot(sim_btc_eth_portfolio.mean(axis=1), label=\"BTC/ETH portfolio: Mean return path\", color=\"blue\", linewidth=2)\n",
    "\n",
    "plt.title(\"Simulated returns of portfolios for 1 year ahead\")\n",
    "plt.legend(handles=legend_patches)\n",
    "plt.show()"
   ]
  },
  {
   "cell_type": "code",
   "execution_count": null,
   "id": "adfba08e-71fb-4b08-98a3-aad7b6e2af8e",
   "metadata": {},
   "outputs": [],
   "source": [
    "df_sim: pd.DataFrame = pd.DataFrame({\n",
    "    \"terminal_mean\": [sim_current_portfolio[-1, :].mean(), sim_btc_eth_portfolio[-1, :].mean()],\n",
    "    \"terminal_std\": [sim_current_portfolio[-1, :].std(), sim_btc_eth_portfolio[-1, :].std()],\n",
    "    \"max_drawdown\": [sim_current_portfolio.min(), sim_btc_eth_portfolio.min()],\n",
    "    \"max_return\": [sim_current_portfolio.max(), sim_btc_eth_portfolio.max()],\n",
    "    \"sharpe_ratio\": [\n",
    "        (sim_current_portfolio[-1, :].mean()-1) / sim_current_portfolio[-1, :].std(),\n",
    "        (sim_btc_eth_portfolio[-1, :].mean()-1) / sim_btc_eth_portfolio[-1, :].std()\n",
    "    ]\n",
    "})\n",
    "\n",
    "df_sim.index = [\n",
    "    \"Currently suggested portfolio\", \"Optimal BTC/ETH portfolio\"\n",
    "]\n",
    "\n",
    "df_sim"
   ]
  }
 ],
 "metadata": {
  "kernelspec": {
   "display_name": "Python 3 (ipykernel)",
   "language": "python",
   "name": "python3"
  },
  "language_info": {
   "codemirror_mode": {
    "name": "ipython",
    "version": 3
   },
   "file_extension": ".py",
   "mimetype": "text/x-python",
   "name": "python",
   "nbconvert_exporter": "python",
   "pygments_lexer": "ipython3",
   "version": "3.12.4"
  }
 },
 "nbformat": 4,
 "nbformat_minor": 5
}
